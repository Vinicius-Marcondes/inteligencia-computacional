{
 "cells": [
  {
   "cell_type": "code",
   "execution_count": null,
   "outputs": [],
   "source": [
    "class Perceptron:\n",
    "    def __init__(self, num_inputs, learning_rate=0.01, num_epochs=100):\n",
    "        self.pesos = [0] * (num_inputs + 1)  # Incluindo o peso do viés\n",
    "        self.learning_rate = learning_rate\n",
    "        self.num_epochs = num_epochs\n",
    "\n",
    "    def avalia(self, inputs):\n",
    "        summation = sum(weight * input for weight, input in zip(self.pesos[1:], inputs)) + self.pesos[0]\n",
    "        return 1 if summation > 0 else 0\n",
    "\n",
    "    def treino(self, training_inputs, labels):\n",
    "        for _ in range(self.num_epochs):\n",
    "            for inputs, label in zip(training_inputs, labels):\n",
    "                prediction = self.avalia(inputs)\n",
    "                error = label - prediction\n",
    "                self.pesos[1:] = [w + self.learning_rate * error * x for w, x in zip(self.pesos[1:], inputs)]\n",
    "                self.pesos[0] += self.learning_rate * error   "
   ],
   "metadata": {
    "collapsed": false
   },
   "id": "e788c235b022e9e6"
  },
  {
   "cell_type": "code",
   "execution_count": 3,
   "id": "initial_id",
   "metadata": {
    "collapsed": true,
    "ExecuteTime": {
     "end_time": "2023-11-27T23:51:51.984268040Z",
     "start_time": "2023-11-27T23:51:51.942857995Z"
    }
   },
   "outputs": [
    {
     "name": "stdout",
     "output_type": "stream",
     "text": [
      "Previsão para Temperatura=15, Umidade=25: Flor=1\n"
     ]
    }
   ],
   "source": [
    "\n",
    "\n",
    "# Seus dados\n",
    "dados = [\n",
    "    ['T1', 10, 20, 1],\n",
    "    ['T2', 8, 13, 0],\n",
    "    ['T3', 6, 15, 1],\n",
    "    ['T4', 5, 11, 1],\n",
    "    ['T5', 20, 26, 0],\n",
    "    ['T6', 22, 26, 0],\n",
    "    ['T7', 23, 27, 1],\n",
    "    ['T8', 18, 23, 0],\n",
    "]\n",
    "\n",
    "# Extrair as entradas (Temperatura e Umidade) e saídas (Flor)\n",
    "X = [[row[1], row[2]] for row in dados]\n",
    "y = [row[3] for row in dados]\n",
    "\n",
    "# Criar e treinar o perceptron\n",
    "num_inputs = len(X[0])\n",
    "perceptron = Perceptron(num_inputs)\n",
    "perceptron.treino(X, y)\n",
    "\n",
    "# Fazer previsões\n",
    "nova_temperatura = 15\n",
    "nova_umidade = 25\n",
    "previsao = perceptron.avalia([nova_temperatura, nova_umidade])\n",
    "print(f\"Previsão para Temperatura={nova_temperatura}, Umidade={nova_umidade}: Flor={previsao}\")\n"
   ]
  }
 ],
 "metadata": {
  "kernelspec": {
   "display_name": "Python 3",
   "language": "python",
   "name": "python3"
  },
  "language_info": {
   "codemirror_mode": {
    "name": "ipython",
    "version": 2
   },
   "file_extension": ".py",
   "mimetype": "text/x-python",
   "name": "python",
   "nbconvert_exporter": "python",
   "pygments_lexer": "ipython2",
   "version": "2.7.6"
  }
 },
 "nbformat": 4,
 "nbformat_minor": 5
}
