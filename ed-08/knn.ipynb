{
 "cells": [
  {
   "cell_type": "code",
   "execution_count": 1,
   "outputs": [],
   "source": [
    "import pandas as pd\n",
    "import numpy as np\n",
    "from sklearn.model_selection import train_test_split"
   ],
   "metadata": {
    "collapsed": false,
    "ExecuteTime": {
     "end_time": "2023-11-28T02:14:16.767715951Z",
     "start_time": "2023-11-28T02:14:16.737739832Z"
    }
   },
   "id": "3118a5daa8361a21"
  },
  {
   "cell_type": "code",
   "execution_count": 2,
   "id": "initial_id",
   "metadata": {
    "collapsed": true,
    "ExecuteTime": {
     "end_time": "2023-11-28T02:14:16.773787958Z",
     "start_time": "2023-11-28T02:14:16.768175437Z"
    }
   },
   "outputs": [],
   "source": [
    "def euclidean_distance(point1, point2):\n",
    "    return np.sqrt(np.sum((point1 - point2) ** 2))"
   ]
  },
  {
   "cell_type": "code",
   "execution_count": 3,
   "outputs": [],
   "source": [
    "def get_neighbors(train, test_row, k):\n",
    "    distances = []\n",
    "    for train_row in train:\n",
    "        dist = euclidean_distance(test_row[:-1], train_row[:-1])\n",
    "        distances.append((train_row, dist))\n",
    "    distances.sort(key=lambda tup: tup[1])\n",
    "    neighbors = []\n",
    "    for i in range(k):\n",
    "        neighbors.append(distances[i][0])\n",
    "    return neighbors"
   ],
   "metadata": {
    "collapsed": false,
    "ExecuteTime": {
     "end_time": "2023-11-28T02:14:16.773970242Z",
     "start_time": "2023-11-28T02:14:16.771108299Z"
    }
   },
   "id": "c5e4bdaf9fe46e91"
  },
  {
   "cell_type": "code",
   "execution_count": 4,
   "outputs": [],
   "source": [
    "def vote(neighbors):\n",
    "    class_votes = {}\n",
    "    for neighbor in neighbors:\n",
    "        if neighbor[2] not in class_votes:\n",
    "            class_votes[neighbor[2]] = 1\n",
    "        else:\n",
    "            class_votes[neighbor[2]] += 1\n",
    "    sorted_votes = sorted(class_votes.items(), key=lambda x: x[1], reverse=True)\n",
    "    return sorted_votes[0][0]"
   ],
   "metadata": {
    "collapsed": false,
    "ExecuteTime": {
     "end_time": "2023-11-28T02:14:16.776409828Z",
     "start_time": "2023-11-28T02:14:16.774059989Z"
    }
   },
   "id": "83c6a5f32b9d9e83"
  },
  {
   "cell_type": "code",
   "execution_count": 5,
   "outputs": [],
   "source": [
    "def predict_classification(train, test_row, k_num):\n",
    "    neighbors = get_neighbors(train, test_row, k_num)\n",
    "    output_values = [row[-1] for row in neighbors]\n",
    "    prediction = max(set(output_values), key=output_values.count)\n",
    "    return prediction\n"
   ],
   "metadata": {
    "collapsed": false,
    "ExecuteTime": {
     "end_time": "2023-11-28T02:14:16.779873020Z",
     "start_time": "2023-11-28T02:14:16.776655674Z"
    }
   },
   "id": "1c0090349810cac2"
  },
  {
   "cell_type": "code",
   "execution_count": 6,
   "outputs": [],
   "source": [
    "def knn(training_set, labels, test_instance, k):\n",
    "    neighbors = get_neighbors(training_set, labels, test_instance, k)\n",
    "    return vote(neighbors)"
   ],
   "metadata": {
    "collapsed": false,
    "ExecuteTime": {
     "end_time": "2023-11-28T02:14:16.822844522Z",
     "start_time": "2023-11-28T02:14:16.780721220Z"
    }
   },
   "id": "f8fef2a72111206b"
  },
  {
   "cell_type": "code",
   "execution_count": 7,
   "outputs": [],
   "source": [
    "df = pd.read_csv('citrus.csv')\n",
    "features = df[['diameter', 'weight', 'red', 'green', 'blue']].values\n",
    "labels = df['name'].values\n",
    "X_train, X_test, y_train, y_test = train_test_split(features, labels, test_size=0.3)\n",
    "\n",
    "train = np.column_stack((X_train, y_train))\n",
    "test = np.column_stack((X_test, y_test))\n",
    "\n",
    "k = 3"
   ],
   "metadata": {
    "collapsed": false,
    "ExecuteTime": {
     "end_time": "2023-11-28T02:14:16.823017099Z",
     "start_time": "2023-11-28T02:14:16.822678899Z"
    }
   },
   "id": "79e2f29b9c57042"
  },
  {
   "cell_type": "code",
   "execution_count": 8,
   "outputs": [
    {
     "name": "stdout",
     "output_type": "stream",
     "text": [
      "[[1351  131]\n",
      " [ 125 1393]]\n",
      "              precision    recall  f1-score   support\n",
      "\n",
      "  grapefruit       0.92      0.91      0.91      1482\n",
      "      orange       0.91      0.92      0.92      1518\n",
      "\n",
      "    accuracy                           0.91      3000\n",
      "   macro avg       0.91      0.91      0.91      3000\n",
      "weighted avg       0.91      0.91      0.91      3000\n"
     ]
    }
   ],
   "source": [
    "from sklearn.metrics import confusion_matrix, classification_report\n",
    "\n",
    "predictions = []\n",
    "for row in test:\n",
    "    output = predict_classification(train, row, k)\n",
    "    predictions.append(output)\n",
    "    \n",
    "actual = y_test\n",
    "predicted = predictions\n",
    "print(confusion_matrix(actual, predicted))\n",
    "print(classification_report(actual, predicted))"
   ],
   "metadata": {
    "collapsed": false,
    "ExecuteTime": {
     "end_time": "2023-11-28T02:15:38.862240348Z",
     "start_time": "2023-11-28T02:14:16.839190515Z"
    }
   },
   "id": "9c7e2b37f23ed804"
  },
  {
   "cell_type": "code",
   "execution_count": 8,
   "outputs": [],
   "source": [],
   "metadata": {
    "collapsed": false,
    "ExecuteTime": {
     "end_time": "2023-11-28T02:15:38.862451149Z",
     "start_time": "2023-11-28T02:15:38.859011933Z"
    }
   },
   "id": "6126fe56e26b9887"
  }
 ],
 "metadata": {
  "kernelspec": {
   "display_name": "Python 3",
   "language": "python",
   "name": "python3"
  },
  "language_info": {
   "codemirror_mode": {
    "name": "ipython",
    "version": 2
   },
   "file_extension": ".py",
   "mimetype": "text/x-python",
   "name": "python",
   "nbconvert_exporter": "python",
   "pygments_lexer": "ipython2",
   "version": "2.7.6"
  }
 },
 "nbformat": 4,
 "nbformat_minor": 5
}
