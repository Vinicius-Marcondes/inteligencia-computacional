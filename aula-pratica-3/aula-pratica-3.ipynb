{
 "cells": [
  {
   "cell_type": "code",
   "execution_count": 2,
   "id": "initial_id",
   "metadata": {
    "collapsed": true,
    "ExecuteTime": {
     "end_time": "2023-09-06T22:51:54.477978Z",
     "start_time": "2023-09-06T22:51:54.436475900Z"
    }
   },
   "outputs": [
    {
     "name": "stdout",
     "output_type": "stream",
     "text": [
      "Geracao 1: Melhor Solucao: [3, 1, 10, 2, 5, 8, 4, 7, 6, 9], Fitness: 378\n",
      "Geracao 2: Melhor Solucao: [3, 1, 10, 2, 5, 2, 7, 3, 5, 8], Fitness: 154\n",
      "Geracao 3: Melhor Solucao: [1, 6, 7, 3, 4, 2, 1, 6, 10, 7], Fitness: 11\n",
      "Geracao 4: Melhor Solucao: [3, 1, 10, 2, 4, 2, 1, 6, 10, 7], Fitness: 10\n",
      "Geracao 5: Melhor Solucao: [7, 6, 1, 3, 4, 2, 1, 6, 10, 2], Fitness: 6\n",
      "Geracao 6: Melhor Solucao: [3, 1, 10, 2, 4, 2, 1, 6, 7, 2], Fitness: 2\n",
      "Geracao 7: Melhor Solucao: [3, 1, 10, 2, 4, 2, 1, 6, 7, 2], Fitness: 2\n",
      "Geracao 8: Melhor Solucao: [3, 1, 10, 2, 4, 2, 1, 6, 7, 2], Fitness: 2\n",
      "Geracao 9: Melhor Solucao: [3, 1, 10, 2, 4, 2, 1, 6, 7, 2], Fitness: 2\n",
      "Geracao 10: Melhor Solucao: [3, 1, 10, 2, 4, 2, 1, 6, 7, 2], Fitness: 2\n",
      "Geracao 11: Melhor Solucao: [3, 1, 10, 2, 4, 2, 1, 6, 7, 2], Fitness: 2\n",
      "Geracao 12: Melhor Solucao: [3, 1, 10, 2, 4, 2, 1, 6, 7, 2], Fitness: 2\n",
      "Geracao 13: Melhor Solucao: [3, 1, 10, 2, 4, 6, 1, 1, 7, 2], Fitness: 1\n",
      "Geracao 14: Melhor Solucao: [3, 1, 10, 2, 4, 6, 1, 1, 7, 2], Fitness: 1\n",
      "Geracao 15: Melhor Solucao: [3, 1, 10, 2, 4, 6, 1, 1, 7, 2], Fitness: 1\n",
      "Geracao 16: Melhor Solucao: [3, 1, 10, 2, 4, 6, 1, 1, 7, 2], Fitness: 1\n",
      "Geracao 17: Melhor Solucao: [3, 1, 10, 2, 4, 6, 1, 1, 7, 2], Fitness: 1\n",
      "Geracao 18: Melhor Solucao: [3, 1, 10, 2, 4, 6, 1, 1, 7, 2], Fitness: 1\n",
      "Geracao 19: Melhor Solucao: [3, 1, 10, 2, 4, 6, 1, 1, 7, 2], Fitness: 1\n",
      "Geracao 20: Melhor Solucao: [3, 1, 10, 2, 4, 6, 1, 1, 7, 2], Fitness: 1\n",
      "Geracao 21: Melhor Solucao: [3, 1, 10, 2, 4, 6, 1, 1, 7, 2], Fitness: 1\n",
      "Geracao 22: Melhor Solucao: [3, 1, 10, 2, 4, 6, 1, 1, 7, 2], Fitness: 1\n",
      "Geracao 23: Melhor Solucao: [3, 1, 10, 2, 4, 6, 1, 1, 7, 1], Fitness: 0\n",
      "Melhor Solução Encontrada: [3, 1, 10, 2, 4, 6, 1, 1, 7, 1]\n"
     ]
    }
   ],
   "source": [
    "from typing import Any\n",
    "\n",
    "class Config:\n",
    "    def __init__(self):\n",
    "        self.tam_cromossomo\n",
    "        \n",
    "        \n",
    "class Cromossomo:\n",
    "    def __init__(self):\n",
    "        self.dados: list[Any] = []\n",
    "        "
   ]
  },
  {
   "cell_type": "code",
   "execution_count": 3,
   "outputs": [
    {
     "ename": "SyntaxError",
     "evalue": "incomplete input (3923218305.py, line 43)",
     "output_type": "error",
     "traceback": [
      "\u001B[1;36m  Cell \u001B[1;32mIn[3], line 43\u001B[1;36m\u001B[0m\n\u001B[1;33m    else:\u001B[0m\n\u001B[1;37m         ^\u001B[0m\n\u001B[1;31mSyntaxError\u001B[0m\u001B[1;31m:\u001B[0m incomplete input\n"
     ]
    }
   ],
   "source": [
    "# Problema da mochila\n",
    "        \n",
    "# Fenotipo: cada posiçao representa um item da lista, se 1 esta na mochila, se 0, está fora\n",
    "# [0, 1, 0, 0, 1, 0]\n",
    "\n",
    "itens = [\n",
    "    {\"item\": \"Anel flamejante\", \"valor\": 55, \"peso\": \"95kg\"},\n",
    "    {\"item\": \"Escudo Leve\", \"valor\": 10, \"peso\": \"4kg\"},\n",
    "    {\"item\": \"Escudo Pesado\", \"valor\": 47, \"peso\": \"60kg\"},\n",
    "    {\"item\": \"Espada Bastarda\", \"valor\": 5, \"peso\": \"32kg\"},\n",
    "    {\"item\": \"Espada Curta\", \"valor\": 4, \"peso\": \"23kg\"},\n",
    "    {\"item\": \"Chapéu da Modificação\", \"valor\": 50, \"peso\": \"72kg\"},\n",
    "    {\"item\": \"Talismã de Pinheiro\", \"valor\": 8, \"peso\": \"80kg\"},\n",
    "    {\"item\": \"Moedas Pacifistas\", \"valor\": 61, \"peso\": \"62kg\"},\n",
    "    {\"item\": \"Anel Guerreiro\", \"valor\": 85, \"peso\": \"65kg\"},\n",
    "    {\"item\": \"Anel da Regeneração\", \"valor\": 87, \"peso\": \"46kg\"}\n",
    "]\n",
    "\n",
    "# Genótipo: cromossomo binario de 10 posicoes\n",
    "\n",
    "CAPACIDADE_MOCHILA: int = 269\n",
    "\n",
    "def fitness_mochila(cromossomo: Cromossomo) -> float:\n",
    "    \"\"\"\n",
    "    Avalia o valor total ds itens da mochila/cromossomo/individui.\n",
    "    Se o individuo for invalido, retorna -1\n",
    "    :param cromossomo: \n",
    "    :return: int\n",
    "    \"\"\"\n",
    "    valor_total = 0\n",
    "    peso_total = 0\n",
    "    for i, contem in enumerate(cromossomo.dados):\n",
    "        if contem:\n",
    "            item = itens[i]\n",
    "            valor_total += item['valor']\n",
    "            peso_total += item['peso']\n",
    "    \n",
    "    if peso_total >= CAPACIDADE_MOCHILA:\n",
    "        return -1\n",
    "    \n",
    "    return valor_total"
   ],
   "metadata": {
    "collapsed": false,
    "ExecuteTime": {
     "end_time": "2023-09-06T23:08:46.997242900Z",
     "start_time": "2023-09-06T23:08:46.947655800Z"
    }
   },
   "id": "4f865622ad96260e"
  },
  {
   "cell_type": "code",
   "execution_count": 5,
   "outputs": [
    {
     "ename": "NameError",
     "evalue": "name 'Config' is not defined",
     "output_type": "error",
     "traceback": [
      "\u001B[1;31m---------------------------------------------------------------------------\u001B[0m",
      "\u001B[1;31mNameError\u001B[0m                                 Traceback (most recent call last)",
      "Cell \u001B[1;32mIn[5], line 1\u001B[0m\n\u001B[1;32m----> 1\u001B[0m config \u001B[38;5;241m=\u001B[39m \u001B[43mConfig\u001B[49m(\n\u001B[0;32m      2\u001B[0m     tam_cromossomo\u001B[38;5;241m=\u001B[39m\u001B[38;5;241m10\u001B[39m\n\u001B[0;32m      3\u001B[0m )\n",
      "\u001B[1;31mNameError\u001B[0m: name 'Config' is not defined"
     ]
    }
   ],
   "source": [
    "config = Config(\n",
    "    tam_cromossomo=10,\n",
    ")\n"
   ],
   "metadata": {
    "collapsed": false,
    "ExecuteTime": {
     "end_time": "2023-09-06T23:11:36.604579600Z",
     "start_time": "2023-09-06T23:11:36.579713300Z"
    }
   },
   "id": "f9ef20fa3e15c83f"
  },
  {
   "cell_type": "code",
   "execution_count": 6,
   "outputs": [
    {
     "ename": "SyntaxError",
     "evalue": "incomplete input (1693663699.py, line 4)",
     "output_type": "error",
     "traceback": [
      "\u001B[1;36m  Cell \u001B[1;32mIn[6], line 4\u001B[1;36m\u001B[0m\n\u001B[1;33m    if i == 1:\u001B[0m\n\u001B[1;37m              ^\u001B[0m\n\u001B[1;31mSyntaxError\u001B[0m\u001B[1;31m:\u001B[0m incomplete input\n"
     ]
    }
   ],
   "source": [
    "solucao = algoritmo_genetico(config)\n",
    "\n",
    "for i, contem in enumerate(solucao.dados):\n",
    "    if i == 1:\n",
    "        print(itens[i])\n",
    "\n",
    "print(f'Valor total: {solucao.valor_total}')"
   ],
   "metadata": {
    "collapsed": false,
    "ExecuteTime": {
     "end_time": "2023-09-06T23:12:16.392574600Z",
     "start_time": "2023-09-06T23:12:16.367026700Z"
    }
   },
   "id": "24e2d86f3c337a3c"
  },
  {
   "cell_type": "markdown",
   "source": [
    "# Utilizacao de numeros reais"
   ],
   "metadata": {
    "collapsed": false
   },
   "id": "5d568927c9d583fe"
  },
  {
   "cell_type": "code",
   "execution_count": null,
   "outputs": [],
   "source": [],
   "metadata": {
    "collapsed": false
   },
   "id": "a0befa5c96d2354b"
  }
 ],
 "metadata": {
  "kernelspec": {
   "display_name": "Python 3",
   "language": "python",
   "name": "python3"
  },
  "language_info": {
   "codemirror_mode": {
    "name": "ipython",
    "version": 2
   },
   "file_extension": ".py",
   "mimetype": "text/x-python",
   "name": "python",
   "nbconvert_exporter": "python",
   "pygments_lexer": "ipython2",
   "version": "2.7.6"
  }
 },
 "nbformat": 4,
 "nbformat_minor": 5
}
