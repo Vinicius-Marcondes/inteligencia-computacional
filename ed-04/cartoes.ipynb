{
 "cells": [
  {
   "cell_type": "code",
   "execution_count": 67,
   "id": "initial_id",
   "metadata": {
    "collapsed": true,
    "ExecuteTime": {
     "end_time": "2023-09-17T17:32:57.376121700Z",
     "start_time": "2023-09-17T17:32:57.314121800Z"
    }
   },
   "outputs": [],
   "source": [
    "from dataclasses import dataclass\n",
    "from typing import Callable\n",
    "from random import randint\n",
    "from random import sample\n",
    "from random import random\n",
    "from pprint import pprint\n",
    "from copy import deepcopy"
   ]
  },
  {
   "cell_type": "code",
   "execution_count": 68,
   "outputs": [],
   "source": [
    "from dataclasses import dataclass\n",
    "from typing import Callable\n",
    "\n",
    "\n",
    "@dataclass\n",
    "class Cromossomo:\n",
    "    dados: list[int]\n",
    "    fitness: float = 0\n",
    "\n",
    "\n",
    "@dataclass\n",
    "class Config:\n",
    "    tam_cromossomo: int\n",
    "    tam_populacao: int\n",
    "    max_iteracoes: int\n",
    "    max_congelamento : int\n",
    "    fitness: Callable[[Cromossomo], float]\n",
    "\n",
    "    selecionar_pais: Callable[[list[Cromossomo]], list[tuple[Cromossomo, Cromossomo]]]\n",
    "\n",
    "    aplicar_cruzamento: Callable[[list[tuple[Cromossomo, Cromossomo]]], list[Cromossomo]]\n",
    "\n",
    "    aplicar_mutacao: Callable[[list[Cromossomo], float], None]\n",
    "    taxa_mutacao: float\n",
    "\n",
    "    selecionar_sobreviventes: Callable[[list[Cromossomo]], list[Cromossomo]]\n",
    "\n",
    "    def inicializar_populacao(tam_populacao, tam_cromossomo) -> list[Cromossomo]:\n",
    "        P0 = []\n",
    "        for i in range(tam_populacao):\n",
    "            cromossomo = Cromossomo([randint(0, 1) for j in range(tam_cromossomo)])\n",
    "            P0.append(cromossomo)\n",
    "        return P0"
   ],
   "metadata": {
    "collapsed": false,
    "ExecuteTime": {
     "end_time": "2023-09-17T17:32:57.430325700Z",
     "start_time": "2023-09-17T17:32:57.322445500Z"
    }
   },
   "id": "1d4a5fccac228fb5"
  },
  {
   "cell_type": "code",
   "execution_count": 69,
   "outputs": [],
   "source": [
    "def inicializar_populacao(tam_populacao, tam_cromossomo) -> list[Cromossomo]:\n",
    "    P0 = []\n",
    "    for i in range(tam_populacao):\n",
    "        cromossomo = Cromossomo([randint(0, 1) for j in range(tam_cromossomo)])\n",
    "        P0.append(cromossomo)\n",
    "    return P0"
   ],
   "metadata": {
    "collapsed": false,
    "ExecuteTime": {
     "end_time": "2023-09-17T17:32:57.439335300Z",
     "start_time": "2023-09-17T17:32:57.330467900Z"
    }
   },
   "id": "1a0a72ed6b812b5b"
  },
  {
   "cell_type": "code",
   "execution_count": 70,
   "outputs": [],
   "source": [
    "def torneio(populacao: list[Cromossomo], tam_torneio: int = 3) -> list[tuple[Cromossomo, Cromossomo]]:\n",
    "    casais = []\n",
    "\n",
    "    for i in range(len(populacao) // 2):\n",
    "\n",
    "        torneio1 = sample(populacao, tam_torneio * 2)\n",
    "        pai1 = sorted(torneio1, key=lambda x: x.fitness, reverse=True)[0] \n",
    "        \n",
    "        torneio2 = sample(populacao, tam_torneio)\n",
    "        pai2 = sorted(torneio2, key=lambda x: x.fitness, reverse=True)[0] \n",
    "\n",
    "        casais.append((pai1, pai2))\n",
    "    \n",
    "    return casais"
   ],
   "metadata": {
    "collapsed": false,
    "ExecuteTime": {
     "end_time": "2023-09-17T17:32:57.439335300Z",
     "start_time": "2023-09-17T17:32:57.338306800Z"
    }
   },
   "id": "4749b32d59a96d71"
  },
  {
   "cell_type": "code",
   "execution_count": 71,
   "outputs": [],
   "source": [
    "def crossover_1_corte(casais):\n",
    "    filhos = []\n",
    "\n",
    "    for par in casais:\n",
    "\n",
    "        # Desempacota os pais\n",
    "        pai1 = par[0].dados\n",
    "        pai2 = par[1].dados\n",
    "\n",
    "        # Sorteia o ponto de corte\n",
    "        corte = randint(1, len(pai1) - 1)\n",
    "\n",
    "        filho1 = pai1[:corte] + pai2[corte:] \n",
    "        filho2 = pai2[:corte] + pai1[corte:] \n",
    "\n",
    "        filhos.append(Cromossomo(filho1))\n",
    "        filhos.append(Cromossomo(filho2))\n",
    "\n",
    "    return filhos"
   ],
   "metadata": {
    "collapsed": false,
    "ExecuteTime": {
     "end_time": "2023-09-17T17:32:57.439335300Z",
     "start_time": "2023-09-17T17:32:57.350532Z"
    }
   },
   "id": "d2019ff1fffc1ff1"
  },
  {
   "cell_type": "code",
   "execution_count": 72,
   "outputs": [],
   "source": [
    "def mutacao(cromossomos: list[Cromossomo], taxa_mutacao: float):\n",
    "    for cromossomo in cromossomos:\n",
    "        for i, c in enumerate(cromossomo.dados):\n",
    "            if random() < taxa_mutacao:\n",
    "                if c == 1:\n",
    "                    cromossomo.dados[i] = 0\n",
    "                else:\n",
    "                    cromossomo.dados[i] = 1"
   ],
   "metadata": {
    "collapsed": false,
    "ExecuteTime": {
     "end_time": "2023-09-17T17:32:57.439335300Z",
     "start_time": "2023-09-17T17:32:57.354809700Z"
    }
   },
   "id": "4ae847fd11ffce84"
  },
  {
   "cell_type": "code",
   "execution_count": 73,
   "outputs": [],
   "source": [
    "def elitismo(populacao):\n",
    "    populacao.sort(key=lambda x: x.fitness, reverse=True)\n",
    "    return populacao[:len(populacao)//2]"
   ],
   "metadata": {
    "collapsed": false,
    "ExecuteTime": {
     "end_time": "2023-09-17T17:32:57.439335300Z",
     "start_time": "2023-09-17T17:32:57.367138500Z"
    }
   },
   "id": "64ebe7ef82ee9f48"
  },
  {
   "cell_type": "code",
   "execution_count": 74,
   "outputs": [],
   "source": [
    "def maximizar_1s(cromossomo: Cromossomo) -> int:\n",
    "    \"\"\"\n",
    "    Função de avaliação do problema. É nessa função que o cromossomo é interpretado\n",
    "    para calcular a aptidão e verificar se está atingindo o objetivo.\n",
    "    \"\"\"\n",
    "    return sum(cromossomo.dados)"
   ],
   "metadata": {
    "collapsed": false,
    "ExecuteTime": {
     "end_time": "2023-09-17T17:32:57.439335300Z",
     "start_time": "2023-09-17T17:32:57.371223Z"
    }
   },
   "id": "2b05156cbffc8177"
  },
  {
   "cell_type": "code",
   "execution_count": 75,
   "outputs": [],
   "source": [
    "def fitness_cartoes(cromossomo):\n",
    "    pilha1 = []\n",
    "    pilha2 = []\n",
    "\n",
    "    for i, cartao in enumerate(cromossomo.dados):\n",
    "        if cartao == 0:\n",
    "            pilha1.append(i + 1)  # Adicione 1 para representar os números de cartões de 1 a 10\n",
    "        else:\n",
    "            pilha2.append(i + 1)\n",
    "\n",
    "    soma_primeira_pilha = sum(pilha1)\n",
    "    produto_segunda_pilha = 1 if not pilha2 else 1  # Evite a multiplicação por 0\n",
    "    for cartao in pilha2:\n",
    "        produto_segunda_pilha *= cartao\n",
    "\n",
    "    fitness_soma = abs(36 - soma_primeira_pilha)\n",
    "    fitness_produto = abs(360 - produto_segunda_pilha)\n",
    "\n",
    "    # Queremos minimizar ambas as diferenças, então podemos somar os inversos das fitness.\n",
    "    return 1 / (1 + fitness_soma + fitness_produto)\n"
   ],
   "metadata": {
    "collapsed": false,
    "ExecuteTime": {
     "end_time": "2023-09-17T17:32:57.439335300Z",
     "start_time": "2023-09-17T17:32:57.379629600Z"
    }
   },
   "id": "1864090996a03cee"
  },
  {
   "cell_type": "code",
   "execution_count": 76,
   "outputs": [],
   "source": [
    "def algoritmo_genetico(config: Config) -> list[int]:\n",
    "    \"\"\"\n",
    "    Implementação do algoritmo genético clássico.\n",
    "\n",
    "    Arguments:\n",
    "        config: Parâmetros de configuração do AG.\n",
    "    \"\"\"\n",
    "\n",
    "    # 1. t = 0\n",
    "    t = 0\n",
    "    \n",
    "    # 2. Inicializar a população inicial P_0\n",
    "    P = inicializar_populacao(config.tam_populacao, config.tam_cromossomo)\n",
    "\n",
    "    # a. Avaliar a população(Pt)\n",
    "    for c in P:\n",
    "        c.fitness = config.fitness(c)\n",
    "\n",
    "    # Salva o melhor indivíduo \n",
    "    P.sort(key=lambda x: x.fitness, reverse=True)\n",
    "\n",
    "    melhor_individuo = deepcopy(P[0])\n",
    "    cont_congelamento = 0\n",
    "    \n",
    "    \n",
    "    # 3. Enquanto critério de parada == falso\n",
    "    terminou = False\n",
    "    while (t < config.max_iteracoes \n",
    "               and cont_congelamento < config.max_congelamento):\n",
    "        \n",
    "        # b. P' = Selecionar pais(Pt)\n",
    "        casais = config.selecionar_pais(P)\n",
    "            \n",
    "        # c. F = Aplicar recombinação e mutação(P')\n",
    "        F = config.aplicar_cruzamento(casais)\n",
    "        config.aplicar_mutacao(F, config.taxa_mutacao)\n",
    "        \n",
    "        # d. Avaliar a população(F)\n",
    "        for c in F:\n",
    "            c.fitness = config.fitness(c)\n",
    "        \n",
    "        # e. Pt+1 = Selecionar sobreviventes(Pt + F)\n",
    "        P = config.selecionar_sobreviventes(P + F)\n",
    "\n",
    "        # Salva o melhor indivíduo \n",
    "        P.sort(key=lambda x: x.fitness, reverse=True)\n",
    "\n",
    "        if P[0].fitness > melhor_individuo.fitness:\n",
    "            melhor_individuo = deepcopy(P[0])\n",
    "            cont_congelamento = 0\n",
    "        else:\n",
    "            cont_congelamento += 1\n",
    "\n",
    "        print(f'{t:04d} - {melhor_individuo.fitness} - {melhor_individuo.dados}')\n",
    "        \n",
    "        # f. t = t + 1\n",
    "        t = t + 1\n",
    "        \n",
    "    return melhor_individuo"
   ],
   "metadata": {
    "collapsed": false,
    "ExecuteTime": {
     "end_time": "2023-09-17T17:32:57.439335300Z",
     "start_time": "2023-09-17T17:32:57.392024400Z"
    }
   },
   "id": "ae04812b0d016e6b"
  },
  {
   "cell_type": "code",
   "execution_count": 77,
   "outputs": [],
   "source": [
    "config = Config(\n",
    "    tam_cromossomo=10,\n",
    "    tam_populacao=100,\n",
    "    \n",
    "    max_iteracoes=1000,\n",
    "    max_congelamento=100,\n",
    "    \n",
    "    fitness=fitness_cartoes,\n",
    "\n",
    "    taxa_mutacao=0.05,\n",
    "    \n",
    "    selecionar_pais=torneio,\n",
    "\n",
    "    aplicar_cruzamento=crossover_1_corte,\n",
    "    aplicar_mutacao=mutacao,\n",
    "    selecionar_sobreviventes=elitismo,\n",
    ")"
   ],
   "metadata": {
    "collapsed": false,
    "ExecuteTime": {
     "end_time": "2023-09-17T17:32:57.439335300Z",
     "start_time": "2023-09-17T17:32:57.399698Z"
    }
   },
   "id": "b93149dd35c9dbbc"
  },
  {
   "cell_type": "code",
   "execution_count": 78,
   "outputs": [
    {
     "name": "stdout",
     "output_type": "stream",
     "text": [
      "0000 - 0.0025575447570332483 - [1, 1, 1, 1, 1, 1, 1, 1, 1, 1]\n",
      "0001 - 0.0025575447570332483 - [1, 1, 1, 1, 1, 1, 1, 1, 1, 1]\n",
      "0002 - 0.0025575447570332483 - [1, 1, 1, 1, 1, 1, 1, 1, 1, 1]\n",
      "0003 - 0.0025575447570332483 - [1, 1, 1, 1, 1, 1, 1, 1, 1, 1]\n",
      "0004 - 0.0025575447570332483 - [1, 1, 1, 1, 1, 1, 1, 1, 1, 1]\n",
      "0005 - 0.0025575447570332483 - [1, 1, 1, 1, 1, 1, 1, 1, 1, 1]\n",
      "0006 - 0.0025575447570332483 - [1, 1, 1, 1, 1, 1, 1, 1, 1, 1]\n",
      "0007 - 0.0025575447570332483 - [1, 1, 1, 1, 1, 1, 1, 1, 1, 1]\n",
      "0008 - 0.0025575447570332483 - [1, 1, 1, 1, 1, 1, 1, 1, 1, 1]\n",
      "0009 - 0.0025575447570332483 - [1, 1, 1, 1, 1, 1, 1, 1, 1, 1]\n",
      "0010 - 0.0025575447570332483 - [1, 1, 1, 1, 1, 1, 1, 1, 1, 1]\n",
      "0011 - 0.0025575447570332483 - [1, 1, 1, 1, 1, 1, 1, 1, 1, 1]\n",
      "0012 - 0.0025575447570332483 - [1, 1, 1, 1, 1, 1, 1, 1, 1, 1]\n",
      "0013 - 0.0025575447570332483 - [1, 1, 1, 1, 1, 1, 1, 1, 1, 1]\n",
      "0014 - 0.0025575447570332483 - [1, 1, 1, 1, 1, 1, 1, 1, 1, 1]\n",
      "0015 - 0.0025575447570332483 - [1, 1, 1, 1, 1, 1, 1, 1, 1, 1]\n",
      "0016 - 0.0025575447570332483 - [1, 1, 1, 1, 1, 1, 1, 1, 1, 1]\n",
      "0017 - 0.0025575447570332483 - [1, 1, 1, 1, 1, 1, 1, 1, 1, 1]\n",
      "0018 - 0.0025575447570332483 - [1, 1, 1, 1, 1, 1, 1, 1, 1, 1]\n",
      "0019 - 0.0025575447570332483 - [1, 1, 1, 1, 1, 1, 1, 1, 1, 1]\n",
      "0020 - 0.0025575447570332483 - [1, 1, 1, 1, 1, 1, 1, 1, 1, 1]\n",
      "0021 - 0.0025575447570332483 - [1, 1, 1, 1, 1, 1, 1, 1, 1, 1]\n",
      "0022 - 0.0025575447570332483 - [1, 1, 1, 1, 1, 1, 1, 1, 1, 1]\n",
      "0023 - 0.0025575447570332483 - [1, 1, 1, 1, 1, 1, 1, 1, 1, 1]\n",
      "0024 - 0.0025575447570332483 - [1, 1, 1, 1, 1, 1, 1, 1, 1, 1]\n",
      "0025 - 0.0025575447570332483 - [1, 1, 1, 1, 1, 1, 1, 1, 1, 1]\n",
      "0026 - 0.0025575447570332483 - [1, 1, 1, 1, 1, 1, 1, 1, 1, 1]\n",
      "0027 - 0.0025575447570332483 - [1, 1, 1, 1, 1, 1, 1, 1, 1, 1]\n",
      "0028 - 0.0025575447570332483 - [1, 1, 1, 1, 1, 1, 1, 1, 1, 1]\n",
      "0029 - 0.0025575447570332483 - [1, 1, 1, 1, 1, 1, 1, 1, 1, 1]\n",
      "0030 - 0.0025575447570332483 - [1, 1, 1, 1, 1, 1, 1, 1, 1, 1]\n",
      "0031 - 0.0025575447570332483 - [1, 1, 1, 1, 1, 1, 1, 1, 1, 1]\n",
      "0032 - 0.0025575447570332483 - [1, 1, 1, 1, 1, 1, 1, 1, 1, 1]\n",
      "0033 - 0.0025575447570332483 - [1, 1, 1, 1, 1, 1, 1, 1, 1, 1]\n",
      "0034 - 0.0025575447570332483 - [1, 1, 1, 1, 1, 1, 1, 1, 1, 1]\n",
      "0035 - 0.0025575447570332483 - [1, 1, 1, 1, 1, 1, 1, 1, 1, 1]\n",
      "0036 - 0.0025575447570332483 - [1, 1, 1, 1, 1, 1, 1, 1, 1, 1]\n",
      "0037 - 0.0025575447570332483 - [1, 1, 1, 1, 1, 1, 1, 1, 1, 1]\n",
      "0038 - 0.0025575447570332483 - [1, 1, 1, 1, 1, 1, 1, 1, 1, 1]\n",
      "0039 - 0.0025575447570332483 - [1, 1, 1, 1, 1, 1, 1, 1, 1, 1]\n",
      "0040 - 0.0025575447570332483 - [1, 1, 1, 1, 1, 1, 1, 1, 1, 1]\n",
      "0041 - 0.0025575447570332483 - [1, 1, 1, 1, 1, 1, 1, 1, 1, 1]\n",
      "0042 - 0.0025575447570332483 - [1, 1, 1, 1, 1, 1, 1, 1, 1, 1]\n",
      "0043 - 0.0025575447570332483 - [1, 1, 1, 1, 1, 1, 1, 1, 1, 1]\n",
      "0044 - 0.0025575447570332483 - [1, 1, 1, 1, 1, 1, 1, 1, 1, 1]\n",
      "0045 - 0.0025575447570332483 - [1, 1, 1, 1, 1, 1, 1, 1, 1, 1]\n",
      "0046 - 0.0025575447570332483 - [1, 1, 1, 1, 1, 1, 1, 1, 1, 1]\n",
      "0047 - 0.0025575447570332483 - [1, 1, 1, 1, 1, 1, 1, 1, 1, 1]\n",
      "0048 - 0.0025575447570332483 - [1, 1, 1, 1, 1, 1, 1, 1, 1, 1]\n",
      "0049 - 0.0025575447570332483 - [1, 1, 1, 1, 1, 1, 1, 1, 1, 1]\n",
      "0050 - 0.0025575447570332483 - [1, 1, 1, 1, 1, 1, 1, 1, 1, 1]\n",
      "0051 - 0.0025575447570332483 - [1, 1, 1, 1, 1, 1, 1, 1, 1, 1]\n",
      "0052 - 0.0025575447570332483 - [1, 1, 1, 1, 1, 1, 1, 1, 1, 1]\n",
      "0053 - 0.0025575447570332483 - [1, 1, 1, 1, 1, 1, 1, 1, 1, 1]\n",
      "0054 - 0.0025575447570332483 - [1, 1, 1, 1, 1, 1, 1, 1, 1, 1]\n",
      "0055 - 0.0025575447570332483 - [1, 1, 1, 1, 1, 1, 1, 1, 1, 1]\n",
      "0056 - 0.0025575447570332483 - [1, 1, 1, 1, 1, 1, 1, 1, 1, 1]\n",
      "0057 - 0.0025575447570332483 - [1, 1, 1, 1, 1, 1, 1, 1, 1, 1]\n",
      "0058 - 0.0025575447570332483 - [1, 1, 1, 1, 1, 1, 1, 1, 1, 1]\n",
      "0059 - 0.0025575447570332483 - [1, 1, 1, 1, 1, 1, 1, 1, 1, 1]\n",
      "0060 - 0.0025575447570332483 - [1, 1, 1, 1, 1, 1, 1, 1, 1, 1]\n",
      "0061 - 0.0025575447570332483 - [1, 1, 1, 1, 1, 1, 1, 1, 1, 1]\n",
      "0062 - 0.0025575447570332483 - [1, 1, 1, 1, 1, 1, 1, 1, 1, 1]\n",
      "0063 - 0.0025575447570332483 - [1, 1, 1, 1, 1, 1, 1, 1, 1, 1]\n",
      "0064 - 0.0025575447570332483 - [1, 1, 1, 1, 1, 1, 1, 1, 1, 1]\n",
      "0065 - 0.0025575447570332483 - [1, 1, 1, 1, 1, 1, 1, 1, 1, 1]\n",
      "0066 - 0.0025575447570332483 - [1, 1, 1, 1, 1, 1, 1, 1, 1, 1]\n",
      "0067 - 0.0025575447570332483 - [1, 1, 1, 1, 1, 1, 1, 1, 1, 1]\n",
      "0068 - 0.0025575447570332483 - [1, 1, 1, 1, 1, 1, 1, 1, 1, 1]\n",
      "0069 - 0.0025575447570332483 - [1, 1, 1, 1, 1, 1, 1, 1, 1, 1]\n",
      "0070 - 0.0025575447570332483 - [1, 1, 1, 1, 1, 1, 1, 1, 1, 1]\n",
      "0071 - 0.0025575447570332483 - [1, 1, 1, 1, 1, 1, 1, 1, 1, 1]\n",
      "0072 - 0.0025575447570332483 - [1, 1, 1, 1, 1, 1, 1, 1, 1, 1]\n",
      "0073 - 0.0025575447570332483 - [1, 1, 1, 1, 1, 1, 1, 1, 1, 1]\n",
      "0074 - 0.0025575447570332483 - [1, 1, 1, 1, 1, 1, 1, 1, 1, 1]\n",
      "0075 - 0.0025575447570332483 - [1, 1, 1, 1, 1, 1, 1, 1, 1, 1]\n",
      "0076 - 0.0025575447570332483 - [1, 1, 1, 1, 1, 1, 1, 1, 1, 1]\n",
      "0077 - 0.0025575447570332483 - [1, 1, 1, 1, 1, 1, 1, 1, 1, 1]\n",
      "0078 - 0.0025575447570332483 - [1, 1, 1, 1, 1, 1, 1, 1, 1, 1]\n",
      "0079 - 0.0025575447570332483 - [1, 1, 1, 1, 1, 1, 1, 1, 1, 1]\n",
      "0080 - 0.0025575447570332483 - [1, 1, 1, 1, 1, 1, 1, 1, 1, 1]\n",
      "0081 - 0.0025575447570332483 - [1, 1, 1, 1, 1, 1, 1, 1, 1, 1]\n",
      "0082 - 0.0025575447570332483 - [1, 1, 1, 1, 1, 1, 1, 1, 1, 1]\n",
      "0083 - 0.0025575447570332483 - [1, 1, 1, 1, 1, 1, 1, 1, 1, 1]\n",
      "0084 - 0.0025575447570332483 - [1, 1, 1, 1, 1, 1, 1, 1, 1, 1]\n",
      "0085 - 0.0025575447570332483 - [1, 1, 1, 1, 1, 1, 1, 1, 1, 1]\n",
      "0086 - 0.0025575447570332483 - [1, 1, 1, 1, 1, 1, 1, 1, 1, 1]\n",
      "0087 - 0.0025575447570332483 - [1, 1, 1, 1, 1, 1, 1, 1, 1, 1]\n",
      "0088 - 0.0025575447570332483 - [1, 1, 1, 1, 1, 1, 1, 1, 1, 1]\n",
      "0089 - 0.0025575447570332483 - [1, 1, 1, 1, 1, 1, 1, 1, 1, 1]\n",
      "0090 - 0.0025575447570332483 - [1, 1, 1, 1, 1, 1, 1, 1, 1, 1]\n",
      "0091 - 0.0025575447570332483 - [1, 1, 1, 1, 1, 1, 1, 1, 1, 1]\n",
      "0092 - 0.0025575447570332483 - [1, 1, 1, 1, 1, 1, 1, 1, 1, 1]\n",
      "0093 - 0.0025575447570332483 - [1, 1, 1, 1, 1, 1, 1, 1, 1, 1]\n",
      "0094 - 0.0025575447570332483 - [1, 1, 1, 1, 1, 1, 1, 1, 1, 1]\n",
      "0095 - 0.0025575447570332483 - [1, 1, 1, 1, 1, 1, 1, 1, 1, 1]\n",
      "0096 - 0.0025575447570332483 - [1, 1, 1, 1, 1, 1, 1, 1, 1, 1]\n",
      "0097 - 0.0025575447570332483 - [1, 1, 1, 1, 1, 1, 1, 1, 1, 1]\n",
      "0098 - 0.0025575447570332483 - [1, 1, 1, 1, 1, 1, 1, 1, 1, 1]\n",
      "0099 - 0.0025575447570332483 - [1, 1, 1, 1, 1, 1, 1, 1, 1, 1]\n",
      "0100 - 0.0025575447570332483 - [1, 1, 1, 1, 1, 1, 1, 1, 1, 1]\n",
      "Solução encontrada: \n"
     ]
    },
    {
     "data": {
      "text/plain": "Cromossomo(dados=[1, 1, 1, 1, 1, 1, 1, 1, 1, 1], fitness=0.0025575447570332483)"
     },
     "execution_count": 78,
     "metadata": {},
     "output_type": "execute_result"
    }
   ],
   "source": [
    "# Execução do algoritmo genético\n",
    "solucao = algoritmo_genetico(config)\n",
    "print('Solução encontrada: ')\n",
    "solucao"
   ],
   "metadata": {
    "collapsed": false,
    "ExecuteTime": {
     "end_time": "2023-09-17T17:32:57.540298100Z",
     "start_time": "2023-09-17T17:32:57.407270500Z"
    }
   },
   "id": "a7844cc81d13e3da"
  },
  {
   "cell_type": "code",
   "execution_count": 78,
   "outputs": [],
   "source": [],
   "metadata": {
    "collapsed": false,
    "ExecuteTime": {
     "end_time": "2023-09-17T17:32:57.540298100Z",
     "start_time": "2023-09-17T17:32:57.538283400Z"
    }
   },
   "id": "b0986bea6c90ec27"
  }
 ],
 "metadata": {
  "kernelspec": {
   "display_name": "Python 3",
   "language": "python",
   "name": "python3"
  },
  "language_info": {
   "codemirror_mode": {
    "name": "ipython",
    "version": 2
   },
   "file_extension": ".py",
   "mimetype": "text/x-python",
   "name": "python",
   "nbconvert_exporter": "python",
   "pygments_lexer": "ipython2",
   "version": "2.7.6"
  }
 },
 "nbformat": 4,
 "nbformat_minor": 5
}
