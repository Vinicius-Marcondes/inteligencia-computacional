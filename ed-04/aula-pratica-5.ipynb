{
 "cells": [
  {
   "cell_type": "code",
   "execution_count": 82,
   "id": "b7528622d7806310",
   "metadata": {
    "collapsed": true,
    "ExecuteTime": {
     "end_time": "2023-09-18T23:30:00.262272Z",
     "start_time": "2023-09-18T23:30:00.207063200Z"
    }
   },
   "outputs": [],
   "source": [
    "from dataclasses import dataclass\n",
    "from typing import Callable\n",
    "from random import randint\n",
    "from random import sample\n",
    "from random import random\n",
    "from pprint import pprint\n",
    "from dataclasses import dataclass\n",
    "from typing import Callable"
   ]
  },
  {
   "cell_type": "code",
   "execution_count": 83,
   "outputs": [],
   "source": [
    "@dataclass\n",
    "class Cromossomo:\n",
    "    dados: list[int]\n",
    "    fitness: float = 0\n",
    "\n",
    "\n",
    "@dataclass\n",
    "class Config:\n",
    "    tam_cromossomo: int\n",
    "    tam_populacao: int\n",
    "    fitness: Callable[[Cromossomo], float]\n",
    "\n",
    "    selecionar_pais: Callable[[list[Cromossomo]], list[tuple[Cromossomo, Cromossomo]]]\n",
    "\n",
    "    aplicar_cruzamento: Callable[[list[tuple[Cromossomo, Cromossomo]]], list[Cromossomo]]\n",
    "\n",
    "    aplicar_mutacao: Callable[[list[Cromossomo], float], None]\n",
    "    taxa_mutacao: float\n",
    "\n",
    "    selecionar_sobreviventes: Callable[[list[Cromossomo]], list[Cromossomo]]"
   ],
   "metadata": {
    "collapsed": false,
    "ExecuteTime": {
     "end_time": "2023-09-18T23:30:00.262272Z",
     "start_time": "2023-09-18T23:30:00.213573Z"
    }
   },
   "id": "da98c0484f25392c"
  },
  {
   "cell_type": "code",
   "execution_count": 84,
   "outputs": [],
   "source": [
    "def inicializar_populacao(tam_populacao, tam_cromossomo) -> list[Cromossomo]:\n",
    "    P0 = []\n",
    "    for i in range(tam_populacao):\n",
    "        cromossomo = Cromossomo([randint(0, 1) for j in range(tam_cromossomo)])\n",
    "        P0.append(cromossomo)\n",
    "    return P0"
   ],
   "metadata": {
    "collapsed": false,
    "ExecuteTime": {
     "end_time": "2023-09-18T23:30:00.262272Z",
     "start_time": "2023-09-18T23:30:00.226316200Z"
    }
   },
   "id": "3c9835cd32aec8b9"
  },
  {
   "cell_type": "code",
   "execution_count": 85,
   "outputs": [],
   "source": [
    "def torneio(populacao: list[Cromossomo], tam_torneio: int = 3) -> list[tuple[Cromossomo, Cromossomo]]:\n",
    "    casais = []\n",
    "\n",
    "    for i in range(len(populacao) // 2):\n",
    "        torneio1 = sample(populacao, tam_torneio * 2)\n",
    "        pai1 = sorted(torneio1, key=lambda x: x.fitness, reverse=True)[0]\n",
    "\n",
    "        populacao.remove(pai1)\n",
    "\n",
    "        torneio2 = sample(populacao, tam_torneio)\n",
    "        pai2 = sorted(torneio2, key=lambda x: x.fitness, reverse=True)[0]\n",
    "\n",
    "        casais.append((pai1, pai2))\n",
    "\n",
    "    return casais"
   ],
   "metadata": {
    "collapsed": false,
    "ExecuteTime": {
     "end_time": "2023-09-18T23:30:00.316306Z",
     "start_time": "2023-09-18T23:30:00.229826600Z"
    }
   },
   "id": "c5ea12d357881ec3"
  },
  {
   "cell_type": "code",
   "execution_count": 86,
   "outputs": [],
   "source": [
    "def crossover_1_corte(casais):\n",
    "    filhos = []\n",
    "\n",
    "    for par in casais:\n",
    "        # Desempacota os pais\n",
    "        pai1 = par[0].dados\n",
    "        pai2 = par[1].dados\n",
    "\n",
    "        # Sorteia o ponto de corte\n",
    "        corte = randint(1, len(pai1) - 1)\n",
    "\n",
    "        filho1 = pai1[:corte] + pai2[corte:]\n",
    "        filho2 = pai2[:corte] + pai1[corte:]\n",
    "\n",
    "        filhos.append(Cromossomo(filho1))\n",
    "        filhos.append(Cromossomo(filho2))\n",
    "\n",
    "    return filhos"
   ],
   "metadata": {
    "collapsed": false,
    "ExecuteTime": {
     "end_time": "2023-09-18T23:30:00.316306Z",
     "start_time": "2023-09-18T23:30:00.241862500Z"
    }
   },
   "id": "b128e7aea72435db"
  },
  {
   "cell_type": "code",
   "execution_count": 87,
   "outputs": [],
   "source": [
    "def mutacao(cromossomos: list[Cromossomo], taxa_mutacao: float):\n",
    "    for cromossomo in cromossomos:\n",
    "        for i, c in enumerate(cromossomo.dados):\n",
    "            if random() < taxa_mutacao:\n",
    "                if c == 1:\n",
    "                    cromossomo.dados[i] = 0\n",
    "                else:\n",
    "                    cromossomo.dados[i] = 1"
   ],
   "metadata": {
    "collapsed": false,
    "ExecuteTime": {
     "end_time": "2023-09-18T23:30:00.316306Z",
     "start_time": "2023-09-18T23:30:00.250714300Z"
    }
   },
   "id": "51aab6fab08745d8"
  },
  {
   "cell_type": "code",
   "execution_count": 88,
   "outputs": [],
   "source": [
    "def elitismo(populacao):\n",
    "    populacao.sort(key=lambda x: x.fitness, reverse=True)\n",
    "    return populacao[:len(populacao) // 2]"
   ],
   "metadata": {
    "collapsed": false,
    "ExecuteTime": {
     "end_time": "2023-09-18T23:30:00.320314200Z",
     "start_time": "2023-09-18T23:30:00.258309200Z"
    }
   },
   "id": "44167ff4a5860ee4"
  },
  {
   "cell_type": "code",
   "execution_count": 89,
   "outputs": [],
   "source": [
    "def maximizar_1s(cromossomo: Cromossomo) -> int:\n",
    "    \"\"\"\n",
    "    Função de avaliação do problema. É nessa função que o cromossomo é interpretado\n",
    "    para calcular a aptidão e verificar se está atingindo o objetivo.\n",
    "    \"\"\"\n",
    "    return sum(cromossomo.dados)"
   ],
   "metadata": {
    "collapsed": false,
    "ExecuteTime": {
     "end_time": "2023-09-18T23:30:00.320314200Z",
     "start_time": "2023-09-18T23:30:00.270628900Z"
    }
   },
   "id": "40e47043d06ec878"
  },
  {
   "cell_type": "code",
   "execution_count": 90,
   "outputs": [],
   "source": [
    "def algoritmo_genetico(config: Config) -> list[int]:\n",
    "    \"\"\"\n",
    "    Implementação do algoritmo genético clássico.\n",
    "\n",
    "    Arguments:\n",
    "        config: Parâmetros de configuração do AG.\n",
    "    \"\"\"\n",
    "\n",
    "    # 1. t = 0\n",
    "    t = 0\n",
    "\n",
    "    # 2. Inicializar a população inicial P_0\n",
    "    P = inicializar_populacao(config.tam_populacao, config.tam_cromossomo)\n",
    "\n",
    "    # 3. Enquanto critério de parada == falso\n",
    "    terminou = False\n",
    "    while not terminou:\n",
    "\n",
    "        # a. Avaliar a população(Pt)\n",
    "        print('> Avaliação da população')\n",
    "        for c in P:\n",
    "            c.fitness = config.fitness(c)\n",
    "            print(c)\n",
    "\n",
    "        # b. P' = Selecionar pais(Pt)\n",
    "        print('> Seleção dos pais')\n",
    "        casais = config.selecionar_pais(P)\n",
    "        for c in casais:\n",
    "            print(c)\n",
    "\n",
    "        # c. F = Aplicar recombinação e mutação(P')\n",
    "        print('> Crossover e mutação')\n",
    "        F = config.aplicar_cruzamento(casais)\n",
    "        config.aplicar_mutacao(F, config.taxa_mutacao)\n",
    "\n",
    "        # d. Avaliar a população(F)\n",
    "        print('> Avaliação da população')\n",
    "        for c in F:\n",
    "            c.fitness = config.fitness(c)\n",
    "            print(c)\n",
    "\n",
    "        # e. Pt+1 = Selecionar sobreviventes(Pt + F)\n",
    "        print('> Selecionar sobreviventes')\n",
    "        P = config.selecionar_sobreviventes(P + F)\n",
    "        for c in P:\n",
    "            c.fitness = config.fitness(c)\n",
    "            print(c)\n",
    "\n",
    "        # f. t = t + 1\n",
    "        t = t + 1\n",
    "        break"
   ],
   "metadata": {
    "collapsed": false,
    "ExecuteTime": {
     "end_time": "2023-09-18T23:30:00.332870900Z",
     "start_time": "2023-09-18T23:30:00.278651700Z"
    }
   },
   "id": "8b46b1b69aa243dd"
  },
  {
   "cell_type": "code",
   "execution_count": 102,
   "outputs": [],
   "source": [
    "# Cross over variantes\n",
    "# dois pontos de corte, o resultado do filho tem que ser na ordem de aparicao do segundo pai\n",
    "def crossover_variante(casais: list[Cromossomo]) -> list[Cromossomo]:\n",
    "    filhos = []\n",
    "    \n",
    "    for par in casais:\n",
    "        # Desempacota os pais\n",
    "        pai1 = par[0].dados\n",
    "        pai2 = par[1].dados\n",
    "        \n",
    "        # seleciona dois pontos de corte aleatorios\n",
    "        ponto_1 = randint(1, len(pai1) - 1)\n",
    "        ponto_2 = randint(ponto_1 + 1, len(pai1) - 1)\n",
    "        \n",
    "        filho_1 = pai1[ponto_1:ponto_2]\n",
    "        \n",
    "        print(filho_1)\n",
    "    \n",
    "    return filhos\n",
    "\n",
    "def crossover_1_corte(casais):\n",
    "    filhos = []\n",
    "\n",
    "    for par in casais:\n",
    "        # Desempacota os pais\n",
    "        pai1 = par[0].dados\n",
    "        pai2 = par[1].dados\n",
    "\n",
    "        # Sorteia o ponto de corte\n",
    "        corte = randint(1, len(pai1) - 1)\n",
    "\n",
    "        filho1 = pai1[:corte] + pai2[corte:]\n",
    "        filho2 = pai2[:corte] + pai1[corte:]\n",
    "\n",
    "        filhos.append(Cromossomo(filho1))\n",
    "        filhos.append(Cromossomo(filho2))\n",
    "\n",
    "    return filhos\n",
    "    "
   ],
   "metadata": {
    "collapsed": false,
    "ExecuteTime": {
     "end_time": "2023-09-18T23:30:47.310980600Z",
     "start_time": "2023-09-18T23:30:36.779544800Z"
    }
   },
   "id": "961126905230f3ef"
  },
  {
   "cell_type": "code",
   "execution_count": 92,
   "outputs": [],
   "source": [
    "# Mutacao variantes"
   ],
   "metadata": {
    "collapsed": false,
    "ExecuteTime": {
     "end_time": "2023-09-18T23:30:00.332870900Z",
     "start_time": "2023-09-18T23:30:00.298145400Z"
    }
   },
   "id": "3ee65edb76ca5f1e"
  },
  {
   "cell_type": "code",
   "execution_count": 93,
   "outputs": [],
   "source": [
    "config = Config(\n",
    "    tam_cromossomo=8,\n",
    "\n",
    "    tam_populacao=10,\n",
    "    fitness=maximizar_1s,\n",
    "\n",
    "    taxa_mutacao=0.05,\n",
    "\n",
    "    selecionar_pais=torneio,\n",
    "\n",
    "    aplicar_cruzamento=crossover_variante,\n",
    "    aplicar_mutacao=mutacao,\n",
    "    selecionar_sobreviventes=elitismo,\n",
    ")"
   ],
   "metadata": {
    "collapsed": false,
    "ExecuteTime": {
     "end_time": "2023-09-18T23:30:00.332870900Z",
     "start_time": "2023-09-18T23:30:00.304213200Z"
    }
   },
   "id": "366dd28339734d05"
  },
  {
   "cell_type": "code",
   "execution_count": null,
   "outputs": [
    {
     "name": "stdout",
     "output_type": "stream",
     "text": [
      "> Avaliação da população\n",
      "Cromossomo(dados=[1, 1, 0, 0, 1, 0, 0, 0], fitness=3)\n",
      "Cromossomo(dados=[0, 1, 1, 1, 0, 0, 0, 0], fitness=3)\n",
      "Cromossomo(dados=[1, 1, 1, 0, 0, 1, 0, 0], fitness=4)\n",
      "Cromossomo(dados=[1, 0, 0, 1, 1, 0, 0, 0], fitness=3)\n",
      "Cromossomo(dados=[0, 1, 1, 1, 1, 0, 0, 1], fitness=5)\n",
      "Cromossomo(dados=[0, 0, 1, 0, 1, 1, 1, 0], fitness=4)\n",
      "Cromossomo(dados=[1, 0, 0, 0, 1, 1, 1, 0], fitness=4)\n",
      "Cromossomo(dados=[0, 0, 0, 0, 0, 0, 0, 0], fitness=0)\n",
      "Cromossomo(dados=[1, 0, 1, 0, 0, 1, 0, 1], fitness=4)\n",
      "Cromossomo(dados=[1, 0, 0, 1, 0, 0, 1, 1], fitness=4)\n",
      "> Seleção dos pais\n",
      "(Cromossomo(dados=[0, 1, 1, 1, 1, 0, 0, 1], fitness=5), Cromossomo(dados=[1, 0, 0, 1, 0, 0, 1, 1], fitness=4))\n",
      "(Cromossomo(dados=[1, 0, 1, 0, 0, 1, 0, 1], fitness=4), Cromossomo(dados=[0, 0, 1, 0, 1, 1, 1, 0], fitness=4))\n",
      "(Cromossomo(dados=[1, 0, 0, 1, 0, 0, 1, 1], fitness=4), Cromossomo(dados=[1, 0, 0, 0, 1, 1, 1, 0], fitness=4))\n",
      "(Cromossomo(dados=[1, 0, 0, 0, 1, 1, 1, 0], fitness=4), Cromossomo(dados=[1, 1, 1, 0, 0, 1, 0, 0], fitness=4))\n",
      "(Cromossomo(dados=[1, 1, 1, 0, 0, 1, 0, 0], fitness=4), Cromossomo(dados=[1, 0, 0, 1, 1, 0, 0, 0], fitness=3))\n",
      "> Crossover e mutação\n"
     ]
    }
   ],
   "source": [
    "# Execução do algoritmo genético\n",
    "solucao = algoritmo_genetico(config)    "
   ],
   "metadata": {
    "collapsed": false,
    "is_executing": true,
    "ExecuteTime": {
     "start_time": "2023-09-18T23:30:55.579398200Z"
    }
   },
   "id": "initial_id"
  },
  {
   "cell_type": "code",
   "execution_count": null,
   "outputs": [],
   "source": [],
   "metadata": {
    "collapsed": false,
    "ExecuteTime": {
     "start_time": "2023-09-18T23:30:00.438169300Z"
    }
   },
   "id": "49c46177719958ad"
  }
 ],
 "metadata": {
  "kernelspec": {
   "display_name": "Python 3",
   "language": "python",
   "name": "python3"
  },
  "language_info": {
   "codemirror_mode": {
    "name": "ipython",
    "version": 2
   },
   "file_extension": ".py",
   "mimetype": "text/x-python",
   "name": "python",
   "nbconvert_exporter": "python",
   "pygments_lexer": "ipython2",
   "version": "2.7.6"
  }
 },
 "nbformat": 4,
 "nbformat_minor": 5
}
