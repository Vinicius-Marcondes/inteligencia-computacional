{
 "cells": [
  {
   "cell_type": "code",
   "execution_count": 11,
   "id": "initial_id",
   "metadata": {
    "collapsed": true,
    "ExecuteTime": {
     "end_time": "2023-09-17T17:08:57.816343Z",
     "start_time": "2023-09-17T17:08:57.784084300Z"
    }
   },
   "outputs": [],
   "source": [
    "from dataclasses import dataclass\n",
    "from typing import Callable\n",
    "from random import randint\n",
    "from random import sample\n",
    "from random import random\n",
    "from pprint import pprint"
   ]
  },
  {
   "cell_type": "code",
   "execution_count": 12,
   "outputs": [],
   "source": [
    "from dataclasses import dataclass\n",
    "from typing import Callable\n",
    "\n",
    "\n",
    "@dataclass\n",
    "class Cromossomo:\n",
    "    dados: list[int]\n",
    "    fitness: float = 0\n",
    "\n",
    "\n",
    "@dataclass\n",
    "class Config:\n",
    "    tam_cromossomo: int\n",
    "    tam_populacao: int\n",
    "    fitness: Callable[[Cromossomo], float]\n",
    "\n",
    "    selecionar_pais: Callable[[list[Cromossomo]], list[tuple[Cromossomo, Cromossomo]]]\n",
    "\n",
    "    aplicar_cruzamento: Callable[[list[tuple[Cromossomo, Cromossomo]]], list[Cromossomo]]\n",
    "\n",
    "    aplicar_mutacao: Callable[[list[Cromossomo], float], None]\n",
    "    taxa_mutacao: float\n",
    "\n",
    "    selecionar_sobreviventes: Callable[[list[Cromossomo]], list[Cromossomo]]\n",
    "\n",
    "    def inicializar_populacao(tam_populacao, tam_cromossomo) -> list[Cromossomo]:\n",
    "        P0 = []\n",
    "        for i in range(tam_populacao):\n",
    "            cromossomo = Cromossomo([randint(0, 1) for j in range(tam_cromossomo)])\n",
    "            P0.append(cromossomo)\n",
    "        return P0"
   ],
   "metadata": {
    "collapsed": false,
    "ExecuteTime": {
     "end_time": "2023-09-17T17:08:57.820354Z",
     "start_time": "2023-09-17T17:08:57.795669200Z"
    }
   },
   "id": "1d4a5fccac228fb5"
  },
  {
   "cell_type": "code",
   "execution_count": 13,
   "outputs": [],
   "source": [
    "def inicializar_populacao(tam_populacao, tam_cromossomo) -> list[Cromossomo]:\n",
    "    P0 = []\n",
    "    for i in range(tam_populacao):\n",
    "        cromossomo = Cromossomo([randint(0, 1) for j in range(tam_cromossomo)])\n",
    "        P0.append(cromossomo)\n",
    "    return P0"
   ],
   "metadata": {
    "collapsed": false,
    "ExecuteTime": {
     "end_time": "2023-09-17T17:08:57.868896600Z",
     "start_time": "2023-09-17T17:08:57.812827300Z"
    }
   },
   "id": "1a0a72ed6b812b5b"
  },
  {
   "cell_type": "code",
   "execution_count": 14,
   "outputs": [],
   "source": [
    "def torneio(populacao: list[Cromossomo], tam_torneio: int = 3) -> list[tuple[Cromossomo, Cromossomo]]:\n",
    "    casais = []\n",
    "\n",
    "    for i in range(len(populacao) // 2):\n",
    "\n",
    "        torneio1 = sample(populacao, tam_torneio * 2)\n",
    "        pai1 = sorted(torneio1, key=lambda x: x.fitness, reverse=True)[0] \n",
    "        \n",
    "        populacao.remove(pai1)\n",
    "        \n",
    "        torneio2 = sample(populacao, tam_torneio)\n",
    "        pai2 = sorted(torneio2, key=lambda x: x.fitness, reverse=True)[0] \n",
    "\n",
    "        casais.append((pai1, pai2))\n",
    "    \n",
    "    return casais"
   ],
   "metadata": {
    "collapsed": false,
    "ExecuteTime": {
     "end_time": "2023-09-17T17:08:57.868896600Z",
     "start_time": "2023-09-17T17:08:57.820354Z"
    }
   },
   "id": "4749b32d59a96d71"
  },
  {
   "cell_type": "code",
   "execution_count": 15,
   "outputs": [],
   "source": [
    "def crossover_1_corte(casais):\n",
    "    filhos = []\n",
    "\n",
    "    for par in casais:\n",
    "\n",
    "        # Desempacota os pais\n",
    "        pai1 = par[0].dados\n",
    "        pai2 = par[1].dados\n",
    "\n",
    "        # Sorteia o ponto de corte\n",
    "        corte = randint(1, len(pai1) - 1)\n",
    "\n",
    "        filho1 = pai1[:corte] + pai2[corte:] \n",
    "        filho2 = pai2[:corte] + pai1[corte:] \n",
    "\n",
    "        filhos.append(Cromossomo(filho1))\n",
    "        filhos.append(Cromossomo(filho2))\n",
    "\n",
    "    return filhos"
   ],
   "metadata": {
    "collapsed": false,
    "ExecuteTime": {
     "end_time": "2023-09-17T17:08:57.872911800Z",
     "start_time": "2023-09-17T17:08:57.832888300Z"
    }
   },
   "id": "d2019ff1fffc1ff1"
  },
  {
   "cell_type": "code",
   "execution_count": 16,
   "outputs": [],
   "source": [
    "def mutacao(cromossomos: list[Cromossomo], taxa_mutacao: float):\n",
    "    for cromossomo in cromossomos:\n",
    "        for i, c in enumerate(cromossomo.dados):\n",
    "            if random() < taxa_mutacao:\n",
    "                if c == 1:\n",
    "                    cromossomo.dados[i] = 0\n",
    "                else:\n",
    "                    cromossomo.dados[i] = 1"
   ],
   "metadata": {
    "collapsed": false,
    "ExecuteTime": {
     "end_time": "2023-09-17T17:08:57.872911800Z",
     "start_time": "2023-09-17T17:08:57.836398200Z"
    }
   },
   "id": "4ae847fd11ffce84"
  },
  {
   "cell_type": "code",
   "execution_count": 17,
   "outputs": [],
   "source": [
    "def elitismo(populacao):\n",
    "    populacao.sort(key=lambda x: x.fitness, reverse=True)\n",
    "    return populacao[:len(populacao)//2]"
   ],
   "metadata": {
    "collapsed": false,
    "ExecuteTime": {
     "end_time": "2023-09-17T17:08:57.872911800Z",
     "start_time": "2023-09-17T17:08:57.848750500Z"
    }
   },
   "id": "64ebe7ef82ee9f48"
  },
  {
   "cell_type": "code",
   "execution_count": 18,
   "outputs": [],
   "source": [
    "def maximizar_1s(cromossomo: Cromossomo) -> int:\n",
    "    \"\"\"\n",
    "    Função de avaliação do problema. É nessa função que o cromossomo é interpretado\n",
    "    para calcular a aptidão e verificar se está atingindo o objetivo.\n",
    "    \"\"\"\n",
    "    return sum(cromossomo.dados)"
   ],
   "metadata": {
    "collapsed": false,
    "ExecuteTime": {
     "end_time": "2023-09-17T17:08:57.872911800Z",
     "start_time": "2023-09-17T17:08:57.857511600Z"
    }
   },
   "id": "2b05156cbffc8177"
  },
  {
   "cell_type": "code",
   "execution_count": 19,
   "outputs": [],
   "source": [
    "def algoritmo_genetico(config: Config) -> list[int]:\n",
    "    \"\"\"\n",
    "    Implementação do algoritmo genético clássico.\n",
    "\n",
    "    Arguments:\n",
    "        config: Parâmetros de configuração do AG.\n",
    "    \"\"\"\n",
    "\n",
    "    # 1. t = 0\n",
    "    t = 0\n",
    "    \n",
    "    # 2. Inicializar a população inicial P_0\n",
    "    P = inicializar_populacao(config.tam_populacao, config.tam_cromossomo)\n",
    "    \n",
    "    # 3. Enquanto critério de parada == falso\n",
    "    terminou = False\n",
    "    while not terminou:\n",
    "    \n",
    "        # a. Avaliar a população(Pt)\n",
    "        print('> Avaliação da população')\n",
    "        for c in P:\n",
    "            c.fitness = config.fitness(c)\n",
    "            print(c)\n",
    "        \n",
    "        # b. P' = Selecionar pais(Pt)\n",
    "        print('> Seleção dos pais')\n",
    "        casais = config.selecionar_pais(P)\n",
    "        for c in casais:\n",
    "            print(c)\n",
    "            \n",
    "        # c. F = Aplicar recombinação e mutação(P')\n",
    "        print('> Crossover e mutação')\n",
    "        F = config.aplicar_cruzamento(casais)\n",
    "        config.aplicar_mutacao(F, config.taxa_mutacao)\n",
    "        \n",
    "        # d. Avaliar a população(F)\n",
    "        print('> Avaliação da população')\n",
    "        for c in F:\n",
    "            c.fitness = config.fitness(c)\n",
    "            print(c)\n",
    "        \n",
    "        # e. Pt+1 = Selecionar sobreviventes(Pt + F)\n",
    "        print('> Selecionar sobreviventes')\n",
    "        P = config.selecionar_sobreviventes(P + F)\n",
    "        for c in P:\n",
    "            c.fitness = config.fitness(c)\n",
    "            print(c)\n",
    "            \n",
    "        # f. t = t + 1\n",
    "        t = t + 1\n",
    "        break"
   ],
   "metadata": {
    "collapsed": false,
    "ExecuteTime": {
     "end_time": "2023-09-17T17:08:57.872911800Z",
     "start_time": "2023-09-17T17:08:57.865081300Z"
    }
   },
   "id": "ae04812b0d016e6b"
  },
  {
   "cell_type": "code",
   "execution_count": 20,
   "outputs": [],
   "source": [
    "config = Config(\n",
    "    tam_cromossomo=8,\n",
    "\n",
    "    tam_populacao=10,\n",
    "    fitness=maximizar_1s,\n",
    "\n",
    "    taxa_mutacao=0.05,\n",
    "    \n",
    "    selecionar_pais=torneio,\n",
    "\n",
    "    aplicar_cruzamento=crossover_1_corte,\n",
    "    aplicar_mutacao=mutacao,\n",
    "    selecionar_sobreviventes=elitismo,\n",
    ")"
   ],
   "metadata": {
    "collapsed": false,
    "ExecuteTime": {
     "end_time": "2023-09-17T17:08:57.886386300Z",
     "start_time": "2023-09-17T17:08:57.878487900Z"
    }
   },
   "id": "b93149dd35c9dbbc"
  },
  {
   "cell_type": "code",
   "execution_count": 21,
   "outputs": [
    {
     "name": "stdout",
     "output_type": "stream",
     "text": [
      "> Avaliação da população\n",
      "Cromossomo(dados=[1, 1, 1, 1, 0, 0, 1, 1], fitness=6)\n",
      "Cromossomo(dados=[0, 1, 1, 1, 0, 0, 0, 1], fitness=4)\n",
      "Cromossomo(dados=[0, 0, 0, 0, 0, 0, 0, 1], fitness=1)\n",
      "Cromossomo(dados=[0, 1, 1, 0, 1, 1, 0, 1], fitness=5)\n",
      "Cromossomo(dados=[0, 0, 0, 1, 0, 0, 1, 0], fitness=2)\n",
      "Cromossomo(dados=[1, 1, 0, 0, 0, 1, 1, 1], fitness=5)\n",
      "Cromossomo(dados=[0, 1, 1, 0, 0, 0, 1, 1], fitness=4)\n",
      "Cromossomo(dados=[1, 1, 1, 1, 1, 1, 1, 0], fitness=7)\n",
      "Cromossomo(dados=[1, 0, 1, 1, 1, 1, 1, 1], fitness=7)\n",
      "Cromossomo(dados=[0, 1, 1, 0, 0, 1, 0, 0], fitness=3)\n",
      "> Seleção dos pais\n",
      "(Cromossomo(dados=[1, 1, 1, 1, 1, 1, 1, 0], fitness=7), Cromossomo(dados=[1, 1, 1, 1, 1, 1, 1, 0], fitness=7))\n",
      "(Cromossomo(dados=[1, 1, 1, 1, 1, 1, 1, 0], fitness=7), Cromossomo(dados=[1, 0, 1, 1, 1, 1, 1, 1], fitness=7))\n",
      "(Cromossomo(dados=[1, 0, 1, 1, 1, 1, 1, 1], fitness=7), Cromossomo(dados=[1, 1, 1, 1, 1, 1, 1, 0], fitness=7))\n",
      "(Cromossomo(dados=[1, 0, 1, 1, 1, 1, 1, 1], fitness=7), Cromossomo(dados=[1, 1, 0, 0, 0, 1, 1, 1], fitness=5))\n",
      "(Cromossomo(dados=[1, 0, 1, 1, 1, 1, 1, 1], fitness=7), Cromossomo(dados=[1, 1, 1, 1, 1, 1, 1, 0], fitness=7))\n",
      "> Crossover e mutação\n",
      "> Avaliação da população\n",
      "Cromossomo(dados=[1, 1, 1, 1, 1, 1, 1, 0], fitness=7)\n",
      "Cromossomo(dados=[1, 1, 1, 1, 1, 1, 1, 0], fitness=7)\n",
      "Cromossomo(dados=[1, 1, 1, 1, 1, 1, 0, 1], fitness=7)\n",
      "Cromossomo(dados=[1, 0, 1, 1, 1, 1, 1, 0], fitness=6)\n",
      "Cromossomo(dados=[1, 1, 0, 1, 1, 1, 1, 0], fitness=6)\n",
      "Cromossomo(dados=[1, 0, 1, 1, 1, 1, 1, 1], fitness=7)\n",
      "Cromossomo(dados=[1, 0, 1, 0, 0, 1, 1, 1], fitness=5)\n",
      "Cromossomo(dados=[1, 1, 0, 1, 1, 1, 1, 1], fitness=7)\n",
      "Cromossomo(dados=[1, 0, 1, 1, 1, 1, 1, 0], fitness=6)\n",
      "Cromossomo(dados=[1, 1, 1, 1, 1, 1, 1, 1], fitness=8)\n",
      "> Selecionar sobreviventes\n",
      "Cromossomo(dados=[1, 1, 1, 1, 1, 1, 1, 1], fitness=8)\n",
      "Cromossomo(dados=[1, 1, 1, 1, 1, 1, 1, 0], fitness=7)\n",
      "Cromossomo(dados=[1, 0, 1, 1, 1, 1, 1, 1], fitness=7)\n",
      "Cromossomo(dados=[1, 1, 1, 1, 1, 1, 1, 0], fitness=7)\n",
      "Cromossomo(dados=[1, 1, 1, 1, 1, 1, 1, 0], fitness=7)\n",
      "Cromossomo(dados=[1, 1, 1, 1, 1, 1, 0, 1], fitness=7)\n",
      "Cromossomo(dados=[1, 0, 1, 1, 1, 1, 1, 1], fitness=7)\n",
      "Cromossomo(dados=[1, 1, 0, 1, 1, 1, 1, 1], fitness=7)\n",
      "Cromossomo(dados=[1, 1, 1, 1, 0, 0, 1, 1], fitness=6)\n",
      "Cromossomo(dados=[1, 0, 1, 1, 1, 1, 1, 0], fitness=6)\n"
     ]
    }
   ],
   "source": [
    "# Execução do algoritmo genético\n",
    "solucao = algoritmo_genetico(config)"
   ],
   "metadata": {
    "collapsed": false,
    "ExecuteTime": {
     "end_time": "2023-09-17T17:08:57.889397Z",
     "start_time": "2023-09-17T17:08:57.880997100Z"
    }
   },
   "id": "a7844cc81d13e3da"
  }
 ],
 "metadata": {
  "kernelspec": {
   "display_name": "Python 3",
   "language": "python",
   "name": "python3"
  },
  "language_info": {
   "codemirror_mode": {
    "name": "ipython",
    "version": 2
   },
   "file_extension": ".py",
   "mimetype": "text/x-python",
   "name": "python",
   "nbconvert_exporter": "python",
   "pygments_lexer": "ipython2",
   "version": "2.7.6"
  }
 },
 "nbformat": 4,
 "nbformat_minor": 5
}
