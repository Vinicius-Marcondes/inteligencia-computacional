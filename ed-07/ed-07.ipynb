{
 "cells": [
  {
   "cell_type": "markdown",
   "source": [
    "# Algoritmo PSO\n",
    "# Implementaçãao de um algoritmo PSO para otimização de uma função de duas variáveis f(x,y). Considere o dominio de x e y entre -5 e 5.\n",
    "# f(x,y) = (-(x^2)/2)-((x^2)/2)+ x + 2y + cos(xy)  "
   ],
   "metadata": {
    "collapsed": false
   },
   "id": "8d25601168a92b90"
  },
  {
   "cell_type": "code",
   "execution_count": 1,
   "outputs": [],
   "source": [
    "from math import cos\n",
    "from random import uniform\n",
    "from typing import List\n",
    "from dataclasses import dataclass\n",
    "from copy import deepcopy"
   ],
   "metadata": {
    "collapsed": false,
    "ExecuteTime": {
     "end_time": "2023-11-28T02:14:28.384869521Z",
     "start_time": "2023-11-28T02:14:28.382538166Z"
    }
   },
   "id": "43c3f8bba501fc44"
  },
  {
   "cell_type": "code",
   "execution_count": 2,
   "id": "initial_id",
   "metadata": {
    "collapsed": true,
    "ExecuteTime": {
     "end_time": "2023-11-28T02:14:28.385128483Z",
     "start_time": "2023-11-28T02:14:28.382676088Z"
    }
   },
   "outputs": [],
   "source": [
    "# Definicoes\n",
    "NUM_DIMENSOES = 2\n",
    "TAM_POPULACAO = 200\n",
    "NUM_ITERACOES = 50\n",
    "C1 = C2 = 2\n",
    "W = 0.4"
   ]
  },
  {
   "cell_type": "code",
   "execution_count": 3,
   "outputs": [],
   "source": [
    "@dataclass\n",
    "class Particula:\n",
    "    posicao: List[float]\n",
    "    velocidade: List[float]\n",
    "    fitness: float\n",
    "    melhor_posicao_local: 'Particula'\n",
    "    melhor_posicao_global: 'Particula'\n",
    "\n",
    "    def __init__(self, x: float, y: float):\n",
    "        self.posicao = [x, y]\n",
    "        self.velocidade = [uniform(-1,1), uniform(-1,1)]\n",
    "        self.melhor_posicao_local = self\n",
    "        \n",
    "    def __str__(self):\n",
    "        return f\"Posicao: {self.posicao}\\nFitness: {self.fitness}\""
   ],
   "metadata": {
    "collapsed": false,
    "ExecuteTime": {
     "end_time": "2023-11-28T02:14:28.385532406Z",
     "start_time": "2023-11-28T02:14:28.382738534Z"
    }
   },
   "id": "f4c798cb8afcf36c"
  },
  {
   "cell_type": "code",
   "execution_count": 4,
   "outputs": [],
   "source": [
    "# Algoritmo PSO para classe Particula\n",
    "def pso(pop: List[Particula]):\n",
    "    melhor_posicao_populacao = deepcopy(pop[0])\n",
    "    for x in pop:\n",
    "        x.melhor_posicao_global = melhor_posicao_populacao\n",
    "        \n",
    "    for _ in range(NUM_ITERACOES):\n",
    "        for particula in pop:\n",
    "            particula.fitness = fitness(particula)\n",
    "            if particula.fitness > fitness(particula.melhor_posicao_local):\n",
    "                particula.melhor_posicao_local = deepcopy(particula)\n",
    "            if particula.fitness > fitness(melhor_posicao_populacao):\n",
    "                melhor_posicao_populacao = deepcopy(particula)\n",
    "                particula.melhor_posicao_global = melhor_posicao_populacao\n",
    "        \n",
    "        for particula in pop:\n",
    "            for i in range(NUM_DIMENSOES):\n",
    "                incercia = W * particula.velocidade[i]\n",
    "                comportammento_cognitivo = C1 * uniform(0,1) * (particula.melhor_posicao_local.posicao[i] - particula.posicao[i])\n",
    "                comportalmento_social = C2 * uniform(0,1) * (particula.melhor_posicao_global.posicao[i] - particula.posicao[i])\n",
    "                particula.velocidade[i] = incercia + comportammento_cognitivo + comportalmento_social\n",
    "                particula.posicao[i] = particula.posicao[i] + particula.velocidade[i]\n",
    "    \n",
    "    return melhor_posicao_populacao"
   ],
   "metadata": {
    "collapsed": false,
    "ExecuteTime": {
     "end_time": "2023-11-28T02:14:28.385703665Z",
     "start_time": "2023-11-28T02:14:28.382813846Z"
    }
   },
   "id": "2bc075f819965f6e"
  },
  {
   "cell_type": "code",
   "execution_count": 5,
   "outputs": [],
   "source": [
    "def inicializa_populacao(pop: List[Particula]):\n",
    "    for _ in range(TAM_POPULACAO):\n",
    "        pop.append(Particula(uniform(-5,5), uniform(-5,5)))\n",
    "\n",
    "def fitness(particula: Particula):\n",
    "    x = particula.posicao[0]\n",
    "    y = particula.posicao[1]\n",
    "\n",
    "    return -(pow(x,2)) + x - (2*y) + cos(x*y)"
   ],
   "metadata": {
    "collapsed": false,
    "ExecuteTime": {
     "end_time": "2023-11-28T02:14:28.385842389Z",
     "start_time": "2023-11-28T02:14:28.382875659Z"
    }
   },
   "id": "91f476baa5b27212"
  },
  {
   "cell_type": "code",
   "execution_count": 6,
   "outputs": [
    {
     "name": "stdout",
     "output_type": "stream",
     "text": [
      "Solucao\n",
      "Posicao: [1.0968867761810397, -5.324649998094536]\n",
      "Fitness: 11.446647147305386\n"
     ]
    }
   ],
   "source": [
    "if __name__ == \"__main__\":\n",
    "    populacao: List[Particula] = []\n",
    "    inicializa_populacao(populacao)\n",
    "    solucao: Particula = pso(populacao)\n",
    "    print(\"Solucao\")\n",
    "    print(solucao)\n"
   ],
   "metadata": {
    "collapsed": false,
    "ExecuteTime": {
     "end_time": "2023-11-28T02:14:28.386003810Z",
     "start_time": "2023-11-28T02:14:28.382990228Z"
    }
   },
   "id": "8f0141067a0121a"
  },
  {
   "cell_type": "code",
   "execution_count": 6,
   "outputs": [],
   "source": [],
   "metadata": {
    "collapsed": false,
    "ExecuteTime": {
     "end_time": "2023-11-28T02:14:28.386064555Z",
     "start_time": "2023-11-28T02:14:28.383073929Z"
    }
   },
   "id": "fb09d525be5c800e"
  },
  {
   "cell_type": "code",
   "execution_count": 6,
   "outputs": [],
   "source": [],
   "metadata": {
    "collapsed": false,
    "ExecuteTime": {
     "end_time": "2023-11-28T02:14:28.386139269Z",
     "start_time": "2023-11-28T02:14:28.383131826Z"
    }
   },
   "id": "d80fc9ca9be39a03"
  }
 ],
 "metadata": {
  "kernelspec": {
   "display_name": "Python 3",
   "language": "python",
   "name": "python3"
  },
  "language_info": {
   "codemirror_mode": {
    "name": "ipython",
    "version": 2
   },
   "file_extension": ".py",
   "mimetype": "text/x-python",
   "name": "python",
   "nbconvert_exporter": "python",
   "pygments_lexer": "ipython2",
   "version": "2.7.6"
  }
 },
 "nbformat": 4,
 "nbformat_minor": 5
}
