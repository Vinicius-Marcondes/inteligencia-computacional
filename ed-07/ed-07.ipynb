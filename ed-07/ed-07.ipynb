{
 "cells": [
  {
   "cell_type": "markdown",
   "source": [
    "# Algoritmo PSO\n",
    "# Implementaçãao de um algoritmo PSO para otimização de uma função de duas variáveis f(x,y). Considere o dominio de x e y entre -5 e 5.\n",
    "# f(x,y) = (-(x^2)/2)-((x^2)/2)+ x + 2y + cos(xy)  "
   ],
   "metadata": {
    "collapsed": false
   },
   "id": "8d25601168a92b90"
  },
  {
   "cell_type": "code",
   "execution_count": 13,
   "outputs": [],
   "source": [
    "from math import cos\n",
    "from random import uniform\n",
    "from typing import List\n",
    "from dataclasses import dataclass\n",
    "from copy import deepcopy"
   ],
   "metadata": {
    "collapsed": false,
    "ExecuteTime": {
     "end_time": "2023-11-27T10:02:01.273473400Z",
     "start_time": "2023-11-27T10:02:01.244986Z"
    }
   },
   "id": "43c3f8bba501fc44"
  },
  {
   "cell_type": "code",
   "execution_count": 14,
   "id": "initial_id",
   "metadata": {
    "collapsed": true,
    "ExecuteTime": {
     "end_time": "2023-11-27T10:02:01.275470800Z",
     "start_time": "2023-11-27T10:02:01.249689Z"
    }
   },
   "outputs": [],
   "source": [
    "# Definicoes\n",
    "NUM_DIMENSOES = 2\n",
    "TAM_POPULACAO = 200\n",
    "NUM_ITERACOES = 50\n",
    "C1 = C2 = 2\n",
    "W = 0.4"
   ]
  },
  {
   "cell_type": "code",
   "execution_count": 15,
   "outputs": [],
   "source": [
    "@dataclass\n",
    "class Particula:\n",
    "    posicao: List[float]\n",
    "    velocidade: List[float]\n",
    "    fitness: float\n",
    "    melhor_posicao_local: 'Particula'\n",
    "    melhor_posicao_global: 'Particula'\n",
    "\n",
    "    def __init__(self, x: float, y: float):\n",
    "        self.posicao = [x, y]\n",
    "        self.velocidade = [uniform(-1,1), uniform(-1,1)]\n",
    "        self.melhor_posicao_local = self\n",
    "        \n",
    "    def __str__(self):\n",
    "        return f\"Posicao: {self.posicao}\\nFitness: {self.fitness}\""
   ],
   "metadata": {
    "collapsed": false,
    "ExecuteTime": {
     "end_time": "2023-11-27T10:02:01.276468200Z",
     "start_time": "2023-11-27T10:02:01.254890300Z"
    }
   },
   "id": "f4c798cb8afcf36c"
  },
  {
   "cell_type": "code",
   "execution_count": 16,
   "outputs": [],
   "source": [
    "# Algoritmo PSO para classe Particula\n",
    "def pso(pop: List[Particula]):\n",
    "    melhor_posicao_populacao = deepcopy(pop[0])\n",
    "    for x in pop:\n",
    "        x.melhor_posicao_global = melhor_posicao_populacao\n",
    "        \n",
    "    for _ in range(NUM_ITERACOES):\n",
    "        for particula in pop:\n",
    "            particula.fitness = fitness(particula)\n",
    "            if particula.fitness > fitness(particula.melhor_posicao_local):\n",
    "                particula.melhor_posicao_local = deepcopy(particula)\n",
    "            if particula.fitness > fitness(melhor_posicao_populacao):\n",
    "                melhor_posicao_populacao = deepcopy(particula)\n",
    "                particula.melhor_posicao_global = melhor_posicao_populacao\n",
    "        \n",
    "        for particula in pop:\n",
    "            for i in range(NUM_DIMENSOES):\n",
    "                incercia = W * particula.velocidade[i]\n",
    "                comportammento_cognitivo = C1 * uniform(0,1) * (particula.melhor_posicao_local.posicao[i] - particula.posicao[i])\n",
    "                comportalmento_social = C2 * uniform(0,1) * (particula.melhor_posicao_global.posicao[i] - particula.posicao[i])\n",
    "                particula.velocidade[i] = incercia + comportammento_cognitivo + comportalmento_social\n",
    "                particula.posicao[i] = particula.posicao[i] + particula.velocidade[i]\n",
    "    \n",
    "    return melhor_posicao_populacao"
   ],
   "metadata": {
    "collapsed": false,
    "ExecuteTime": {
     "end_time": "2023-11-27T10:02:01.276468200Z",
     "start_time": "2023-11-27T10:02:01.261060300Z"
    }
   },
   "id": "2bc075f819965f6e"
  },
  {
   "cell_type": "code",
   "execution_count": 17,
   "outputs": [],
   "source": [
    "def inicializa_populacao(pop: List[Particula]):\n",
    "    for _ in range(TAM_POPULACAO):\n",
    "        pop.append(Particula(uniform(-5,5), uniform(-5,5)))\n",
    "\n",
    "def fitness(particula: Particula):\n",
    "    x = particula.posicao[0]\n",
    "    y = particula.posicao[1]\n",
    "\n",
    "    return -(pow(x,2)) + x - (2*y) + cos(x*y)"
   ],
   "metadata": {
    "collapsed": false,
    "ExecuteTime": {
     "end_time": "2023-11-27T10:02:01.276468200Z",
     "start_time": "2023-11-27T10:02:01.267845200Z"
    }
   },
   "id": "91f476baa5b27212"
  },
  {
   "cell_type": "code",
   "execution_count": 18,
   "outputs": [
    {
     "name": "stdout",
     "output_type": "stream",
     "text": [
      "Solucao\n",
      "Posicao: [19.02840721673315, 10.287601607168154]\n",
      "Fitness: -363.0683351809268\n"
     ]
    }
   ],
   "source": [
    "if __name__ == \"__main__\":\n",
    "    populacao: List[Particula] = []\n",
    "    inicializa_populacao(populacao)\n",
    "    solucao: Particula = pso(populacao)\n",
    "    print(\"Solucao\")\n",
    "    print(solucao)\n"
   ],
   "metadata": {
    "collapsed": false,
    "ExecuteTime": {
     "end_time": "2023-11-27T10:02:01.317423800Z",
     "start_time": "2023-11-27T10:02:01.271478500Z"
    }
   },
   "id": "8f0141067a0121a"
  },
  {
   "cell_type": "code",
   "execution_count": 18,
   "outputs": [],
   "source": [],
   "metadata": {
    "collapsed": false,
    "ExecuteTime": {
     "end_time": "2023-11-27T10:02:01.317423800Z",
     "start_time": "2023-11-27T10:02:01.312254500Z"
    }
   },
   "id": "fb09d525be5c800e"
  },
  {
   "cell_type": "code",
   "execution_count": 18,
   "outputs": [],
   "source": [],
   "metadata": {
    "collapsed": false,
    "ExecuteTime": {
     "end_time": "2023-11-27T10:02:01.317423800Z",
     "start_time": "2023-11-27T10:02:01.314921600Z"
    }
   },
   "id": "d80fc9ca9be39a03"
  }
 ],
 "metadata": {
  "kernelspec": {
   "display_name": "Python 3",
   "language": "python",
   "name": "python3"
  },
  "language_info": {
   "codemirror_mode": {
    "name": "ipython",
    "version": 2
   },
   "file_extension": ".py",
   "mimetype": "text/x-python",
   "name": "python",
   "nbconvert_exporter": "python",
   "pygments_lexer": "ipython2",
   "version": "2.7.6"
  }
 },
 "nbformat": 4,
 "nbformat_minor": 5
}
